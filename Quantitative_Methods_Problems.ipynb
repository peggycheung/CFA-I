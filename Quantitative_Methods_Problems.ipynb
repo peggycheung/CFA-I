{
 "cells": [
  {
   "cell_type": "markdown",
   "id": "205be2b3",
   "metadata": {},
   "source": [
    "## Annuities\n",
    "\n",
    "*E.g. Casey has an ordinary annuity that is worth $20,000 today. The expected annual return for this annuity is 7% per annum. He is expected to live for another 20 years. How much can he withdraw at the end of each year such that the annuity can last him for the full 20 years?*\n",
    "\n",
    "\n",
    "\n",
    "**Solution:**\n",
    "\n",
    "It is clear that:\n",
    "\n",
    "\n",
    "$$\n",
    "PV = \\$20,000 \\\\\n",
    "r = 7\\% \\\\\n",
    "N = 20  \\\\\n",
    "FV = \\$0 \\\\\n",
    "PMT = \\$???\n",
    "$$\n",
    "\n",
    "**Caution:** This is where whether input is postive/negative matters to the results!\n",
    "\n",
    "When using the TVM function on calculator, if I input PV = 20,000, it will get the wrong answer. \n",
    "\n",
    "The correct way is:\n",
    "\n",
    "`N` = 20\n",
    "\n",
    "`1/Y` = 7\n",
    "\n",
    "`PV` = -20,000 (Is it because PV of ordinary annuity is outflow/investment?)\n",
    "\n",
    "`FV` = 0 (no need to type in as it is 0)\n",
    "\n",
    "`CPT` `PMT`  ––> 1888 \n",
    "\n",
    "**Answer: 1888**"
   ]
  },
  {
   "cell_type": "code",
   "execution_count": null,
   "id": "4dacd9bd",
   "metadata": {},
   "outputs": [],
   "source": []
  }
 ],
 "metadata": {
  "kernelspec": {
   "display_name": "Python 3 (ipykernel)",
   "language": "python",
   "name": "python3"
  },
  "language_info": {
   "codemirror_mode": {
    "name": "ipython",
    "version": 3
   },
   "file_extension": ".py",
   "mimetype": "text/x-python",
   "name": "python",
   "nbconvert_exporter": "python",
   "pygments_lexer": "ipython3",
   "version": "3.9.7"
  }
 },
 "nbformat": 4,
 "nbformat_minor": 5
}
